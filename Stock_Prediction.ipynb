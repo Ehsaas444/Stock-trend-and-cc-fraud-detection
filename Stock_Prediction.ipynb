{
 "cells": [
  {
   "cell_type": "markdown",
   "id": "bf1abebb",
   "metadata": {},
   "source": [
    "# Stock Market Trend Prediction"
   ]
  },
  {
   "cell_type": "code",
   "execution_count": 1,
   "id": "66344fef",
   "metadata": {},
   "outputs": [
    {
     "name": "stdout",
     "output_type": "stream",
     "text": [
      "WARNING:tensorflow:From /Users/armanbhullar55gmail.com/miniconda3/envs/tensorflow/lib/python3.10/site-packages/tensorflow/python/compat/v2_compat.py:107: disable_resource_variables (from tensorflow.python.ops.variable_scope) is deprecated and will be removed in a future version.\n",
      "Instructions for updating:\n",
      "non-resource variables are not supported in the long term\n",
      "Accuracy of model: 61.90%\n"
     ]
    },
    {
     "name": "stderr",
     "output_type": "stream",
     "text": [
      "2023-07-08 11:51:39.902912: I tensorflow/compiler/mlir/mlir_graph_optimization_pass.cc:357] MLIR V1 optimization pass is not enabled\n",
      "2023-07-08 11:51:39.909118: W tensorflow/tsl/platform/profile_utils/cpu_utils.cc:128] Failed to get CPU frequency: 0 Hz\n"
     ]
    },
    {
     "data": {
      "application/vnd.plotly.v1+json": {
       "config": {
        "plotlyServerURL": "https://plot.ly"
       },
       "data": [
        {
         "hovertemplate": "Volumns=%{x}<br>Price Differences=%{y}<extra></extra>",
         "legendgroup": "",
         "marker": {
          "color": "#636efa",
          "symbol": "circle"
         },
         "mode": "markers",
         "name": "",
         "orientation": "v",
         "showlegend": false,
         "type": "scatter",
         "x": [
          362.67,
          264.47,
          402.21,
          351.42,
          275.31,
          271.33,
          320.51,
          336.58,
          306.37,
          287.75,
          303.11,
          386.65,
          363.78,
          309.35,
          557.99,
          0,
          0,
          368.17,
          376.31,
          312.01,
          460.45,
          321.81,
          358.61,
          246.72,
          235.69,
          268.99,
          261.48,
          396.54,
          329.84,
          273.2,
          287.56,
          238.07,
          265.33,
          269.83,
          290.97,
          247.54,
          123.21,
          270.85,
          207.02,
          210.98,
          213.54,
          165.13,
          250.89,
          161.44,
          95.79,
          62.31,
          212.88,
          240.53,
          269.02,
          198.03,
          253.19,
          174.9,
          267.44,
          227.82,
          262.77,
          217.24,
          238.26,
          322.18,
          192.21,
          366.77,
          0,
          284.45,
          222.76,
          277.75,
          195.07,
          213.42,
          227.47,
          162.67,
          187.39,
          170.46,
          185.39,
          179.65,
          149.11,
          255.15,
          348.34,
          175.6,
          173.01,
          219.21,
          257.44,
          218.85,
          257.79,
          139.8,
          272.29,
          181.2,
          204.29,
          286.21,
          0,
          0,
          159,
          63.17,
          48.74,
          54.13,
          45.56,
          212.92,
          368.9,
          377.87,
          204.21,
          189.23,
          199.88,
          237.71,
          194.72,
          254.02,
          201.06,
          275.89,
          318.32,
          253.65,
          181.51,
          199.78,
          173.29,
          210.73,
          241.05,
          253.77,
          302.84,
          229.6,
          245.62,
          260.7,
          280.74,
          191.67,
          0,
          235.46,
          251.1,
          292.14,
          182.2,
          375.41,
          165.26,
          236.74,
          158.36,
          142.2,
          165.21,
          217.66,
          166.69,
          111.01,
          70.83,
          51.11,
          39.79,
          31.66,
          51.21,
          15.49,
          22.01,
          17.73,
          20.15,
          0.02,
          0.04,
          0,
          0.04,
          0.02,
          0.05,
          0.03,
          0.12,
          0.08,
          0.14,
          0.72,
          0.54,
          0.09,
          0.11,
          0.04,
          0.12,
          0,
          0,
          0.3,
          0.09,
          0.18,
          0.16,
          0.4,
          0.39,
          0.89,
          0.29,
          1.18,
          0.91,
          0.87,
          1.51,
          1.15,
          3.21,
          50.5,
          0.02,
          0.02,
          0.4,
          0.02,
          0.02,
          0.04,
          0.03,
          0.11,
          0.08,
          0,
          0,
          0.07,
          0.11,
          0.02,
          0.01,
          0.06,
          0.02,
          0.5,
          0.04,
          0.05,
          0,
          0.02,
          0.95,
          0.21,
          0.08,
          0,
          0,
          0.07,
          0.1,
          0.05,
          0.05,
          0.25,
          0.15,
          0.24,
          0.49,
          0.64,
          0.33,
          0.37,
          0.32,
          0.18,
          0.65,
          0.36,
          1.52,
          1.59,
          7.16,
          42.12,
          0.02,
          0.01,
          0,
          0.31,
          0.02,
          0,
          0,
          0.61,
          1.14,
          0.07,
          0.02,
          0.22,
          0.6,
          0.06,
          0.11,
          0.05,
          0.03,
          0.01,
          0.07,
          0.03,
          0.05,
          0.06,
          0.56,
          0.07,
          0.28,
          0.06,
          0.04,
          0,
          0.42,
          0.22,
          0.01,
          0.04,
          0.31,
          0.32,
          0.13,
          0.03,
          0.03,
          0.17,
          0.11,
          0.25,
          1.89,
          0.3,
          0.87,
          6.11,
          0
         ],
         "xaxis": "x",
         "y": [
          -17.40000000000009,
          7.2999999999999545,
          19.90000000000009,
          -5.900000000000091,
          13.400000000000091,
          22.90000000000009,
          2.3999999999998636,
          6.900000000000091,
          3.7000000000000455,
          8.799999999999955,
          18.299999999999955,
          -12.200000000000045,
          -5.2999999999999545,
          0.7000000000000455,
          -3.2899999999999636,
          2.4600000000000364,
          -14.319999999999936,
          -16.300000000000182,
          -7.400000000000091,
          6.400000000000091,
          -21.300000000000182,
          -24,
          -1.900000000000091,
          -1.599999999999909,
          2.3999999999998636,
          -1.900000000000091,
          -2.900000000000091,
          -1.599999999999909,
          -15.5,
          4.099999999999909,
          16.700000000000045,
          2.099999999999909,
          -10.799999999999955,
          -24,
          -16.399999999999864,
          1.7000000000000455,
          10.599999999999909,
          8,
          0.7999999999999545,
          -2.800000000000182,
          -3.1000000000001364,
          -8.400000000000091,
          -8.5,
          -10.299999999999955,
          6.300000000000182,
          -3,
          -10.200000000000045,
          -14.300000000000182,
          -3.5,
          -8.700000000000045,
          -13.200000000000045,
          -17.299999999999955,
          -8.299999999999955,
          -0.7999999999999545,
          -5.2999999999999545,
          -2.6000000000001364,
          11.399999999999864,
          16.799999999999955,
          -3.2000000000000455,
          2.599999999999909,
          14.150000000000091,
          26,
          7.2999999999999545,
          1.5,
          -3.8999999999998636,
          11.199999999999818,
          4.5,
          -10,
          -5.5,
          -0.3999999999998636,
          12.299999999999955,
          8.899999999999864,
          6.2000000000000455,
          13.800000000000182,
          -8.200000000000045,
          1.1000000000001364,
          14.599999999999909,
          18.09999999999991,
          17.5,
          -10.700000000000045,
          -14.900000000000091,
          -14.700000000000045,
          -8.600000000000136,
          -4.399999999999864,
          -4.2000000000000455,
          2.3199999999999363,
          -0.38000000000010914,
          -9.620000000000118,
          -9.800000000000182,
          -6,
          6.7000000000000455,
          1.099999999999909,
          -18,
          7.800000000000182,
          -15.599999999999909,
          -27.90000000000009,
          -8.100000000000136,
          -5,
          -8.5,
          -2.1000000000001364,
          7.699999999999818,
          7,
          1.400000000000091,
          11.599999999999909,
          29.200000000000045,
          8.900000000000091,
          12.599999999999909,
          9.700000000000045,
          1.900000000000091,
          -0.40000000000009095,
          13.700000000000045,
          12.799999999999955,
          5.7999999999999545,
          -6.899999999999864,
          7.900000000000091,
          3.2999999999999545,
          -1.699999999999818,
          -2.25,
          -1.3500000000001364,
          -11.299999999999955,
          -21.299999999999955,
          -18.600000000000136,
          0,
          0.2999999999999545,
          4.900000000000091,
          7,
          -6.5,
          -9.400000000000091,
          4.899999999999864,
          5,
          0.2999999999999545,
          -11.599999999999909,
          -10.599999999999909,
          -0.20000000000004547,
          -2.3999999999998636,
          -15.799999999999955,
          -17,
          -7.900000000000091,
          -10.799999999999955,
          -28.100000000000136,
          -0.7000000000000455,
          4.2999999999999545,
          -6.2000000000000455,
          3.7999999999999545,
          9.799999999999955,
          15.799999999999955,
          20.100000000000136,
          7.2000000000000455,
          21.700000000000045,
          15.899999999999864,
          4.699999999999818,
          2.1000000000001364,
          -7.400000000000091,
          -20.800000000000182,
          -14.100000000000136,
          5.2999999999999545,
          -0.25,
          -2.2000000000000455,
          3.400000000000091,
          -3.099999999999909,
          -14.5,
          -5.7999999999999545,
          6.599999999999909,
          3.199999999999818,
          5,
          -3,
          -3.3999999999998636,
          -12.299999999999955,
          -15.099999999999909,
          -8.799999999999955,
          -4.7999999999999545,
          -10.699999999999818,
          -16.899999999999864,
          -5.2999999999999545,
          11.600000000000136,
          12.5,
          21.700000000000045,
          1.7000000000000455,
          -12.200000000000045,
          -3.7999999999999545,
          12.699999999999818,
          -5.7999999999999545,
          -8.75,
          -5.5499999999999545,
          -7.649999999999864,
          -2.599999999999909,
          -11.400000000000091,
          -11.299999999999955,
          -10.299999999999955,
          -7,
          0.09999999999990905,
          -23.40000000000009,
          -8.599999999999909,
          -9.400000000000091,
          10.950000000000045,
          -6.2000000000000455,
          -15.200000000000045,
          -5.100000000000136,
          -2.2999999999999545,
          0.4500000000000455,
          -4.099999999999909,
          -0.7000000000000455,
          7.2999999999999545,
          2.400000000000091,
          7.900000000000091,
          -13.599999999999909,
          4.5,
          32,
          2.2000000000000455,
          1.599999999999909,
          3.099999999999909,
          14.399999999999864,
          -2.099999999999909,
          -4.099999999999909,
          14.200000000000045,
          -1.7000000000000455,
          -2.3999999999998636,
          20.199999999999818,
          22.40000000000009,
          0.09999999999990905,
          -13.599999999999909,
          11,
          27.25,
          21.300000000000182,
          -5.0499999999999545,
          -8.349999999999909,
          5.9500000000000455,
          16.09999999999991,
          12.799999999999955,
          0.8999999999998636,
          3.7999999999999545,
          32.5,
          50.90000000000009,
          6.7000000000000455,
          11.5,
          18.59999999999991,
          21.700000000000045,
          -6.899999999999864,
          -13.799999999999955,
          -27.5,
          -9.800000000000182,
          -1.2000000000000455,
          -6.099999999999909,
          6.099999999999909,
          -0.7000000000000455,
          -2.7000000000000455,
          3.5499999999999545,
          2.9500000000000455,
          -2.699999999999818,
          -7,
          -10.899999999999864,
          -0.5,
          5.600000000000136,
          -3.2999999999999545,
          7.800000000000182,
          5.7999999999999545,
          -3.599999999999909,
          16.399999999999864,
          22.299999999999955,
          42.399999999999864,
          47.200000000000045,
          11.599999999999909,
          7.900000000000091,
          8.399999999999864,
          1.0499999999999545
         ],
         "yaxis": "y"
        }
       ],
       "layout": {
        "legend": {
         "tracegroupgap": 0
        },
        "margin": {
         "t": 60
        },
        "template": {
         "data": {
          "bar": [
           {
            "error_x": {
             "color": "#2a3f5f"
            },
            "error_y": {
             "color": "#2a3f5f"
            },
            "marker": {
             "line": {
              "color": "#E5ECF6",
              "width": 0.5
             },
             "pattern": {
              "fillmode": "overlay",
              "size": 10,
              "solidity": 0.2
             }
            },
            "type": "bar"
           }
          ],
          "barpolar": [
           {
            "marker": {
             "line": {
              "color": "#E5ECF6",
              "width": 0.5
             },
             "pattern": {
              "fillmode": "overlay",
              "size": 10,
              "solidity": 0.2
             }
            },
            "type": "barpolar"
           }
          ],
          "carpet": [
           {
            "aaxis": {
             "endlinecolor": "#2a3f5f",
             "gridcolor": "white",
             "linecolor": "white",
             "minorgridcolor": "white",
             "startlinecolor": "#2a3f5f"
            },
            "baxis": {
             "endlinecolor": "#2a3f5f",
             "gridcolor": "white",
             "linecolor": "white",
             "minorgridcolor": "white",
             "startlinecolor": "#2a3f5f"
            },
            "type": "carpet"
           }
          ],
          "choropleth": [
           {
            "colorbar": {
             "outlinewidth": 0,
             "ticks": ""
            },
            "type": "choropleth"
           }
          ],
          "contour": [
           {
            "colorbar": {
             "outlinewidth": 0,
             "ticks": ""
            },
            "colorscale": [
             [
              0,
              "#0d0887"
             ],
             [
              0.1111111111111111,
              "#46039f"
             ],
             [
              0.2222222222222222,
              "#7201a8"
             ],
             [
              0.3333333333333333,
              "#9c179e"
             ],
             [
              0.4444444444444444,
              "#bd3786"
             ],
             [
              0.5555555555555556,
              "#d8576b"
             ],
             [
              0.6666666666666666,
              "#ed7953"
             ],
             [
              0.7777777777777778,
              "#fb9f3a"
             ],
             [
              0.8888888888888888,
              "#fdca26"
             ],
             [
              1,
              "#f0f921"
             ]
            ],
            "type": "contour"
           }
          ],
          "contourcarpet": [
           {
            "colorbar": {
             "outlinewidth": 0,
             "ticks": ""
            },
            "type": "contourcarpet"
           }
          ],
          "heatmap": [
           {
            "colorbar": {
             "outlinewidth": 0,
             "ticks": ""
            },
            "colorscale": [
             [
              0,
              "#0d0887"
             ],
             [
              0.1111111111111111,
              "#46039f"
             ],
             [
              0.2222222222222222,
              "#7201a8"
             ],
             [
              0.3333333333333333,
              "#9c179e"
             ],
             [
              0.4444444444444444,
              "#bd3786"
             ],
             [
              0.5555555555555556,
              "#d8576b"
             ],
             [
              0.6666666666666666,
              "#ed7953"
             ],
             [
              0.7777777777777778,
              "#fb9f3a"
             ],
             [
              0.8888888888888888,
              "#fdca26"
             ],
             [
              1,
              "#f0f921"
             ]
            ],
            "type": "heatmap"
           }
          ],
          "heatmapgl": [
           {
            "colorbar": {
             "outlinewidth": 0,
             "ticks": ""
            },
            "colorscale": [
             [
              0,
              "#0d0887"
             ],
             [
              0.1111111111111111,
              "#46039f"
             ],
             [
              0.2222222222222222,
              "#7201a8"
             ],
             [
              0.3333333333333333,
              "#9c179e"
             ],
             [
              0.4444444444444444,
              "#bd3786"
             ],
             [
              0.5555555555555556,
              "#d8576b"
             ],
             [
              0.6666666666666666,
              "#ed7953"
             ],
             [
              0.7777777777777778,
              "#fb9f3a"
             ],
             [
              0.8888888888888888,
              "#fdca26"
             ],
             [
              1,
              "#f0f921"
             ]
            ],
            "type": "heatmapgl"
           }
          ],
          "histogram": [
           {
            "marker": {
             "pattern": {
              "fillmode": "overlay",
              "size": 10,
              "solidity": 0.2
             }
            },
            "type": "histogram"
           }
          ],
          "histogram2d": [
           {
            "colorbar": {
             "outlinewidth": 0,
             "ticks": ""
            },
            "colorscale": [
             [
              0,
              "#0d0887"
             ],
             [
              0.1111111111111111,
              "#46039f"
             ],
             [
              0.2222222222222222,
              "#7201a8"
             ],
             [
              0.3333333333333333,
              "#9c179e"
             ],
             [
              0.4444444444444444,
              "#bd3786"
             ],
             [
              0.5555555555555556,
              "#d8576b"
             ],
             [
              0.6666666666666666,
              "#ed7953"
             ],
             [
              0.7777777777777778,
              "#fb9f3a"
             ],
             [
              0.8888888888888888,
              "#fdca26"
             ],
             [
              1,
              "#f0f921"
             ]
            ],
            "type": "histogram2d"
           }
          ],
          "histogram2dcontour": [
           {
            "colorbar": {
             "outlinewidth": 0,
             "ticks": ""
            },
            "colorscale": [
             [
              0,
              "#0d0887"
             ],
             [
              0.1111111111111111,
              "#46039f"
             ],
             [
              0.2222222222222222,
              "#7201a8"
             ],
             [
              0.3333333333333333,
              "#9c179e"
             ],
             [
              0.4444444444444444,
              "#bd3786"
             ],
             [
              0.5555555555555556,
              "#d8576b"
             ],
             [
              0.6666666666666666,
              "#ed7953"
             ],
             [
              0.7777777777777778,
              "#fb9f3a"
             ],
             [
              0.8888888888888888,
              "#fdca26"
             ],
             [
              1,
              "#f0f921"
             ]
            ],
            "type": "histogram2dcontour"
           }
          ],
          "mesh3d": [
           {
            "colorbar": {
             "outlinewidth": 0,
             "ticks": ""
            },
            "type": "mesh3d"
           }
          ],
          "parcoords": [
           {
            "line": {
             "colorbar": {
              "outlinewidth": 0,
              "ticks": ""
             }
            },
            "type": "parcoords"
           }
          ],
          "pie": [
           {
            "automargin": true,
            "type": "pie"
           }
          ],
          "scatter": [
           {
            "fillpattern": {
             "fillmode": "overlay",
             "size": 10,
             "solidity": 0.2
            },
            "type": "scatter"
           }
          ],
          "scatter3d": [
           {
            "line": {
             "colorbar": {
              "outlinewidth": 0,
              "ticks": ""
             }
            },
            "marker": {
             "colorbar": {
              "outlinewidth": 0,
              "ticks": ""
             }
            },
            "type": "scatter3d"
           }
          ],
          "scattercarpet": [
           {
            "marker": {
             "colorbar": {
              "outlinewidth": 0,
              "ticks": ""
             }
            },
            "type": "scattercarpet"
           }
          ],
          "scattergeo": [
           {
            "marker": {
             "colorbar": {
              "outlinewidth": 0,
              "ticks": ""
             }
            },
            "type": "scattergeo"
           }
          ],
          "scattergl": [
           {
            "marker": {
             "colorbar": {
              "outlinewidth": 0,
              "ticks": ""
             }
            },
            "type": "scattergl"
           }
          ],
          "scattermapbox": [
           {
            "marker": {
             "colorbar": {
              "outlinewidth": 0,
              "ticks": ""
             }
            },
            "type": "scattermapbox"
           }
          ],
          "scatterpolar": [
           {
            "marker": {
             "colorbar": {
              "outlinewidth": 0,
              "ticks": ""
             }
            },
            "type": "scatterpolar"
           }
          ],
          "scatterpolargl": [
           {
            "marker": {
             "colorbar": {
              "outlinewidth": 0,
              "ticks": ""
             }
            },
            "type": "scatterpolargl"
           }
          ],
          "scatterternary": [
           {
            "marker": {
             "colorbar": {
              "outlinewidth": 0,
              "ticks": ""
             }
            },
            "type": "scatterternary"
           }
          ],
          "surface": [
           {
            "colorbar": {
             "outlinewidth": 0,
             "ticks": ""
            },
            "colorscale": [
             [
              0,
              "#0d0887"
             ],
             [
              0.1111111111111111,
              "#46039f"
             ],
             [
              0.2222222222222222,
              "#7201a8"
             ],
             [
              0.3333333333333333,
              "#9c179e"
             ],
             [
              0.4444444444444444,
              "#bd3786"
             ],
             [
              0.5555555555555556,
              "#d8576b"
             ],
             [
              0.6666666666666666,
              "#ed7953"
             ],
             [
              0.7777777777777778,
              "#fb9f3a"
             ],
             [
              0.8888888888888888,
              "#fdca26"
             ],
             [
              1,
              "#f0f921"
             ]
            ],
            "type": "surface"
           }
          ],
          "table": [
           {
            "cells": {
             "fill": {
              "color": "#EBF0F8"
             },
             "line": {
              "color": "white"
             }
            },
            "header": {
             "fill": {
              "color": "#C8D4E3"
             },
             "line": {
              "color": "white"
             }
            },
            "type": "table"
           }
          ]
         },
         "layout": {
          "annotationdefaults": {
           "arrowcolor": "#2a3f5f",
           "arrowhead": 0,
           "arrowwidth": 1
          },
          "autotypenumbers": "strict",
          "coloraxis": {
           "colorbar": {
            "outlinewidth": 0,
            "ticks": ""
           }
          },
          "colorscale": {
           "diverging": [
            [
             0,
             "#8e0152"
            ],
            [
             0.1,
             "#c51b7d"
            ],
            [
             0.2,
             "#de77ae"
            ],
            [
             0.3,
             "#f1b6da"
            ],
            [
             0.4,
             "#fde0ef"
            ],
            [
             0.5,
             "#f7f7f7"
            ],
            [
             0.6,
             "#e6f5d0"
            ],
            [
             0.7,
             "#b8e186"
            ],
            [
             0.8,
             "#7fbc41"
            ],
            [
             0.9,
             "#4d9221"
            ],
            [
             1,
             "#276419"
            ]
           ],
           "sequential": [
            [
             0,
             "#0d0887"
            ],
            [
             0.1111111111111111,
             "#46039f"
            ],
            [
             0.2222222222222222,
             "#7201a8"
            ],
            [
             0.3333333333333333,
             "#9c179e"
            ],
            [
             0.4444444444444444,
             "#bd3786"
            ],
            [
             0.5555555555555556,
             "#d8576b"
            ],
            [
             0.6666666666666666,
             "#ed7953"
            ],
            [
             0.7777777777777778,
             "#fb9f3a"
            ],
            [
             0.8888888888888888,
             "#fdca26"
            ],
            [
             1,
             "#f0f921"
            ]
           ],
           "sequentialminus": [
            [
             0,
             "#0d0887"
            ],
            [
             0.1111111111111111,
             "#46039f"
            ],
            [
             0.2222222222222222,
             "#7201a8"
            ],
            [
             0.3333333333333333,
             "#9c179e"
            ],
            [
             0.4444444444444444,
             "#bd3786"
            ],
            [
             0.5555555555555556,
             "#d8576b"
            ],
            [
             0.6666666666666666,
             "#ed7953"
            ],
            [
             0.7777777777777778,
             "#fb9f3a"
            ],
            [
             0.8888888888888888,
             "#fdca26"
            ],
            [
             1,
             "#f0f921"
            ]
           ]
          },
          "colorway": [
           "#636efa",
           "#EF553B",
           "#00cc96",
           "#ab63fa",
           "#FFA15A",
           "#19d3f3",
           "#FF6692",
           "#B6E880",
           "#FF97FF",
           "#FECB52"
          ],
          "font": {
           "color": "#2a3f5f"
          },
          "geo": {
           "bgcolor": "white",
           "lakecolor": "white",
           "landcolor": "#E5ECF6",
           "showlakes": true,
           "showland": true,
           "subunitcolor": "white"
          },
          "hoverlabel": {
           "align": "left"
          },
          "hovermode": "closest",
          "mapbox": {
           "style": "light"
          },
          "paper_bgcolor": "white",
          "plot_bgcolor": "#E5ECF6",
          "polar": {
           "angularaxis": {
            "gridcolor": "white",
            "linecolor": "white",
            "ticks": ""
           },
           "bgcolor": "#E5ECF6",
           "radialaxis": {
            "gridcolor": "white",
            "linecolor": "white",
            "ticks": ""
           }
          },
          "scene": {
           "xaxis": {
            "backgroundcolor": "#E5ECF6",
            "gridcolor": "white",
            "gridwidth": 2,
            "linecolor": "white",
            "showbackground": true,
            "ticks": "",
            "zerolinecolor": "white"
           },
           "yaxis": {
            "backgroundcolor": "#E5ECF6",
            "gridcolor": "white",
            "gridwidth": 2,
            "linecolor": "white",
            "showbackground": true,
            "ticks": "",
            "zerolinecolor": "white"
           },
           "zaxis": {
            "backgroundcolor": "#E5ECF6",
            "gridcolor": "white",
            "gridwidth": 2,
            "linecolor": "white",
            "showbackground": true,
            "ticks": "",
            "zerolinecolor": "white"
           }
          },
          "shapedefaults": {
           "line": {
            "color": "#2a3f5f"
           }
          },
          "ternary": {
           "aaxis": {
            "gridcolor": "white",
            "linecolor": "white",
            "ticks": ""
           },
           "baxis": {
            "gridcolor": "white",
            "linecolor": "white",
            "ticks": ""
           },
           "bgcolor": "#E5ECF6",
           "caxis": {
            "gridcolor": "white",
            "linecolor": "white",
            "ticks": ""
           }
          },
          "title": {
           "x": 0.05
          },
          "xaxis": {
           "automargin": true,
           "gridcolor": "white",
           "linecolor": "white",
           "ticks": "",
           "title": {
            "standoff": 15
           },
           "zerolinecolor": "white",
           "zerolinewidth": 2
          },
          "yaxis": {
           "automargin": true,
           "gridcolor": "white",
           "linecolor": "white",
           "ticks": "",
           "title": {
            "standoff": 15
           },
           "zerolinecolor": "white",
           "zerolinewidth": 2
          }
         }
        },
        "xaxis": {
         "anchor": "y",
         "domain": [
          0,
          1
         ],
         "title": {
          "text": "Volumns"
         }
        },
        "yaxis": {
         "anchor": "x",
         "domain": [
          0,
          1
         ],
         "title": {
          "text": "Price Differences"
         }
        }
       }
      }
     },
     "metadata": {},
     "output_type": "display_data"
    }
   ],
   "source": [
    "import pandas as pd\n",
    "import numpy as np\n",
    "import matplotlib.pyplot as plt\n",
    "import tensorflow.compat.v1 as tf\n",
    "\n",
    "tf.disable_v2_behavior()\n",
    "tf.compat.v1.disable_eager_execution()\n",
    "\n",
    "# List of all csv filenames\n",
    "GAS_TRAIN_DATA = 'CSV_Files/Gas Data Last Year.csv'\n",
    "GAS_TEST_DATA = 'CSV_Files/Gas Data Last Month.csv'\n",
    "GOLD_TRAIN_DATA = 'CSV_Files/Gold Data Last Year.csv'\n",
    "GOLD_TEST_DATA = 'CSV_Files/Gold Data Last Month.csv'\n",
    "OIL_TRAIN_DATA = 'CSV_Files/Oil Data Last Year.csv'\n",
    "OIL_TEST_DATA = 'CSV_Files/Oil Data Last Month.csv'\n",
    "SILVER_TRAIN_DATA = 'CSV_Files/Silver Data Last Year.csv'\n",
    "SILVER_TEST_DATA = 'CSV_Files/Silver Data Last Month.csv'\n",
    "COAL_DATA = '/Users/armanbhullar55gmail.com/Downloads/Finance_Data - Sheet2.csv'\n",
    "\n",
    "\n",
    "# Data sets for stock we are currently assessing\n",
    "current_train_data = GOLD_TRAIN_DATA\n",
    "current_test_data = GOLD_TEST_DATA\n",
    "\n",
    "# Number of data points to retrieve from csv files (varies with each stock we assess)\n",
    "NUM_TRAIN_DATA_POINTS = 266\n",
    "NUM_TEST_DATA_POINTS = 22\n",
    "\n",
    "LEARNING_RATE = 0.1\n",
    "NUM_EPOCHS = 100\n",
    "\n",
    "\n",
    "# Function to load data that we want from csv files and return final and opening prices and volume for each day\n",
    "def load_stock_data(stock_name, num_data_points):\n",
    "    data = pd.read_csv(stock_name,\n",
    "                       skiprows=0,\n",
    "                       nrows=num_data_points,\n",
    "                       usecols=['Price', 'Open', 'Vol.'])\n",
    "    # Prices of stock at the end of each day\n",
    "    final_prices = data['Price'].astype(str).str.replace(',','').astype(np.float64)\n",
    "    # Prices of stock at the beginning of each day\n",
    "    opening_prices = data['Open'].astype(str).str.replace(',', '').astype(np.float64)\n",
    "    # Volume of stock exchanged throughout the day\n",
    "    volumes = data['Volume'].str.strip(' M').astype(np.float64)\n",
    "    return final_prices, opening_prices, volumes\n",
    "\n",
    "\n",
    "# Function to calculate differences between opening price of the next day and final price of the current day\n",
    "def calculate_price_differences(final_prices, opening_prices):\n",
    "    price_differences = []\n",
    "    for d_i in range(len(final_prices) - 1):\n",
    "        price_difference = opening_prices[d_i + 1] - final_prices[d_i]\n",
    "        price_differences.append(price_difference)\n",
    "    return price_differences\n",
    "\n",
    "\n",
    "def calculate_accuracy(expected_values, actual_values):\n",
    "    num_correct = 0\n",
    "    for a_i in range(len(actual_values)):\n",
    "        if actual_values[a_i] < 0 < expected_values[a_i]:\n",
    "            num_correct += 1\n",
    "        elif actual_values[a_i] > 0 > expected_values[a_i]:\n",
    "            num_correct += 1\n",
    "    return (num_correct / len(actual_values)) * 100\n",
    "\n",
    "\n",
    "# Training data sets\n",
    "train_final_prices, train_opening_prices, train_volumes = load_stock_data(current_train_data, NUM_TRAIN_DATA_POINTS)\n",
    "train_price_differences = calculate_price_differences(train_final_prices, train_opening_prices)\n",
    "train_volumes = train_volumes[:-1]\n",
    "\n",
    "# Testing data sets\n",
    "test_final_prices, test_opening_prices, test_volumes = load_stock_data(current_test_data, NUM_TEST_DATA_POINTS)\n",
    "test_price_differences = calculate_price_differences(test_final_prices, test_opening_prices)\n",
    "test_volumes = test_volumes[:-1]\n",
    "\n",
    "# Building computational graph after y = Wx + b\n",
    "\n",
    "# Used to input volumes\n",
    "x = tf.placeholder(tf.float32, name='x')\n",
    "# Variables that our model will change to get actual output as close to expected output as possible\n",
    "W = tf.Variable([.1], name='W')\n",
    "b = tf.Variable([.1], name='b')\n",
    "# How our model outputs the actual values\n",
    "y = W * x + b\n",
    "# Used to input expected values for training purposes (shows the model what a \"good\" outcome is)\n",
    "y_predicted = tf.placeholder(tf.float32, name='y_predicted')\n",
    "\n",
    "# Loss function based on the difference between actual and expected outputs\n",
    "loss = tf.reduce_sum(tf.square(y - y_predicted))\n",
    "# Optimizer aimed at minimizing loss by changing W and b\n",
    "optimizer = tf.train.AdamOptimizer(LEARNING_RATE).minimize(loss)\n",
    "\n",
    "# Session is used to actually run the nodes\n",
    "session = tf.Session()\n",
    "# Need to initialize global variables\n",
    "session.run(tf.global_variables_initializer())\n",
    "for _ in range(NUM_EPOCHS):\n",
    "    # Run the optimizer which will allow it to change the values of W and b to minimize loss\n",
    "    session.run(optimizer, feed_dict={x: train_volumes, y_predicted: train_price_differences})\n",
    "\n",
    "results = session.run(y, feed_dict={x: test_volumes})\n",
    "accuracy = calculate_accuracy(test_price_differences, results)\n",
    "print(\"Accuracy of model: {0:.2f}%\".format(accuracy))\n",
    "\n",
    "# Plotting purposes only, not necessary\n",
    "import plotly.express as px\n",
    "# fig = px.scatter()\n",
    "df = [train_price_differences, train_volumes]\n",
    "import numpy as np\n",
    "df = np.transpose(df)\n",
    "df = pd.DataFrame(df, columns=['Price Differences', 'Volumns'])\n",
    "px.scatter(df, x='Volumns', y='Price Differences')\n"
   ]
  },
  {
   "cell_type": "code",
   "execution_count": 12,
   "id": "292053be",
   "metadata": {},
   "outputs": [
    {
     "data": {
      "text/plain": [
       "0       4.2\n",
       "1       3.6\n",
       "2       9.6\n",
       "3       8.8\n",
       "4      12.2\n",
       "       ... \n",
       "121     7.9\n",
       "122     3.7\n",
       "123     4.9\n",
       "124     7.3\n",
       "125     6.4\n",
       "Name: Volume, Length: 126, dtype: float64"
      ]
     },
     "execution_count": 12,
     "metadata": {},
     "output_type": "execute_result"
    }
   ],
   "source": [
    "COAL_DATA = '/Users/armanbhullar55gmail.com/Downloads/Finance_Data - Sheet2.csv'"
   ]
  },
  {
   "cell_type": "code",
   "execution_count": 9,
   "id": "4eafbf51",
   "metadata": {},
   "outputs": [
    {
     "data": {
      "text/html": [
       "<div>\n",
       "<style scoped>\n",
       "    .dataframe tbody tr th:only-of-type {\n",
       "        vertical-align: middle;\n",
       "    }\n",
       "\n",
       "    .dataframe tbody tr th {\n",
       "        vertical-align: top;\n",
       "    }\n",
       "\n",
       "    .dataframe thead th {\n",
       "        text-align: right;\n",
       "    }\n",
       "</style>\n",
       "<table border=\"1\" class=\"dataframe\">\n",
       "  <thead>\n",
       "    <tr style=\"text-align: right;\">\n",
       "      <th></th>\n",
       "      <th>Date</th>\n",
       "      <th>Price</th>\n",
       "      <th>Open</th>\n",
       "      <th>High</th>\n",
       "      <th>Low</th>\n",
       "      <th>Vol.</th>\n",
       "      <th>Change %</th>\n",
       "    </tr>\n",
       "  </thead>\n",
       "  <tbody>\n",
       "    <tr>\n",
       "      <th>0</th>\n",
       "      <td>Oct 25, 2017</td>\n",
       "      <td>1,279.00</td>\n",
       "      <td>1,278.00</td>\n",
       "      <td>1,281.30</td>\n",
       "      <td>1,272.00</td>\n",
       "      <td>379.40K</td>\n",
       "      <td>0.05</td>\n",
       "    </tr>\n",
       "    <tr>\n",
       "      <th>1</th>\n",
       "      <td>Oct 24, 2017</td>\n",
       "      <td>1,278.30</td>\n",
       "      <td>1,283.90</td>\n",
       "      <td>1,285.30</td>\n",
       "      <td>1,274.80</td>\n",
       "      <td>268.91K</td>\n",
       "      <td>-0.20</td>\n",
       "    </tr>\n",
       "    <tr>\n",
       "      <th>2</th>\n",
       "      <td>Oct 23, 2017</td>\n",
       "      <td>1,280.90</td>\n",
       "      <td>1,281.50</td>\n",
       "      <td>1,284.70</td>\n",
       "      <td>1,273.60</td>\n",
       "      <td>284.48K</td>\n",
       "      <td>0.03</td>\n",
       "    </tr>\n",
       "    <tr>\n",
       "      <th>3</th>\n",
       "      <td>Oct 20, 2017</td>\n",
       "      <td>1,280.50</td>\n",
       "      <td>1,292.00</td>\n",
       "      <td>1,292.90</td>\n",
       "      <td>1,279.30</td>\n",
       "      <td>314.81K</td>\n",
       "      <td>-0.74</td>\n",
       "    </tr>\n",
       "    <tr>\n",
       "      <th>4</th>\n",
       "      <td>Oct 19, 2017</td>\n",
       "      <td>1,290.00</td>\n",
       "      <td>1,282.80</td>\n",
       "      <td>1,292.80</td>\n",
       "      <td>1,277.60</td>\n",
       "      <td>355.71K</td>\n",
       "      <td>0.55</td>\n",
       "    </tr>\n",
       "    <tr>\n",
       "      <th>5</th>\n",
       "      <td>Oct 18, 2017</td>\n",
       "      <td>1,283.00</td>\n",
       "      <td>1,286.90</td>\n",
       "      <td>1,290.80</td>\n",
       "      <td>1,278.60</td>\n",
       "      <td>258.54K</td>\n",
       "      <td>-0.25</td>\n",
       "    </tr>\n",
       "    <tr>\n",
       "      <th>6</th>\n",
       "      <td>Oct 17, 2017</td>\n",
       "      <td>1,286.20</td>\n",
       "      <td>1,297.20</td>\n",
       "      <td>1,298.40</td>\n",
       "      <td>1,283.20</td>\n",
       "      <td>342.41K</td>\n",
       "      <td>-1.29</td>\n",
       "    </tr>\n",
       "    <tr>\n",
       "      <th>7</th>\n",
       "      <td>Oct 16, 2017</td>\n",
       "      <td>1,303.00</td>\n",
       "      <td>1,306.00</td>\n",
       "      <td>1,308.40</td>\n",
       "      <td>1,292.50</td>\n",
       "      <td>271.28K</td>\n",
       "      <td>-0.12</td>\n",
       "    </tr>\n",
       "    <tr>\n",
       "      <th>8</th>\n",
       "      <td>Oct 13, 2017</td>\n",
       "      <td>1,304.60</td>\n",
       "      <td>1,296.00</td>\n",
       "      <td>1,306.40</td>\n",
       "      <td>1,292.90</td>\n",
       "      <td>297.57K</td>\n",
       "      <td>0.62</td>\n",
       "    </tr>\n",
       "    <tr>\n",
       "      <th>9</th>\n",
       "      <td>Oct 12, 2017</td>\n",
       "      <td>1,296.50</td>\n",
       "      <td>1,294.60</td>\n",
       "      <td>1,299.80</td>\n",
       "      <td>1,291.80</td>\n",
       "      <td>246.08K</td>\n",
       "      <td>0.59</td>\n",
       "    </tr>\n",
       "    <tr>\n",
       "      <th>10</th>\n",
       "      <td>Oct 11, 2017</td>\n",
       "      <td>1,288.90</td>\n",
       "      <td>1,290.70</td>\n",
       "      <td>1,295.90</td>\n",
       "      <td>1,286.80</td>\n",
       "      <td>261.36K</td>\n",
       "      <td>-0.38</td>\n",
       "    </tr>\n",
       "    <tr>\n",
       "      <th>11</th>\n",
       "      <td>Oct 10, 2017</td>\n",
       "      <td>1,293.80</td>\n",
       "      <td>1,286.80</td>\n",
       "      <td>1,296.70</td>\n",
       "      <td>1,284.60</td>\n",
       "      <td>316.58K</td>\n",
       "      <td>0.68</td>\n",
       "    </tr>\n",
       "    <tr>\n",
       "      <th>12</th>\n",
       "      <td>Oct 09, 2017</td>\n",
       "      <td>1,285.00</td>\n",
       "      <td>1,278.60</td>\n",
       "      <td>1,288.00</td>\n",
       "      <td>1,277.70</td>\n",
       "      <td>200.99K</td>\n",
       "      <td>0.79</td>\n",
       "    </tr>\n",
       "    <tr>\n",
       "      <th>13</th>\n",
       "      <td>Oct 06, 2017</td>\n",
       "      <td>1,274.90</td>\n",
       "      <td>1,270.60</td>\n",
       "      <td>1,279.20</td>\n",
       "      <td>1,262.80</td>\n",
       "      <td>373.75K</td>\n",
       "      <td>0.13</td>\n",
       "    </tr>\n",
       "    <tr>\n",
       "      <th>14</th>\n",
       "      <td>Oct 05, 2017</td>\n",
       "      <td>1,273.20</td>\n",
       "      <td>1,277.50</td>\n",
       "      <td>1,281.60</td>\n",
       "      <td>1,268.50</td>\n",
       "      <td>221.52K</td>\n",
       "      <td>-0.28</td>\n",
       "    </tr>\n",
       "    <tr>\n",
       "      <th>15</th>\n",
       "      <td>Oct 04, 2017</td>\n",
       "      <td>1,276.80</td>\n",
       "      <td>1,274.50</td>\n",
       "      <td>1,285.00</td>\n",
       "      <td>1,273.10</td>\n",
       "      <td>273.12K</td>\n",
       "      <td>0.17</td>\n",
       "    </tr>\n",
       "    <tr>\n",
       "      <th>16</th>\n",
       "      <td>Oct 03, 2017</td>\n",
       "      <td>1,274.60</td>\n",
       "      <td>1,273.10</td>\n",
       "      <td>1,277.40</td>\n",
       "      <td>1,271.00</td>\n",
       "      <td>207.42K</td>\n",
       "      <td>-0.09</td>\n",
       "    </tr>\n",
       "    <tr>\n",
       "      <th>17</th>\n",
       "      <td>Oct 02, 2017</td>\n",
       "      <td>1,275.80</td>\n",
       "      <td>1,282.20</td>\n",
       "      <td>1,282.80</td>\n",
       "      <td>1,272.00</td>\n",
       "      <td>272.71K</td>\n",
       "      <td>-0.70</td>\n",
       "    </tr>\n",
       "    <tr>\n",
       "      <th>18</th>\n",
       "      <td>Sep 29, 2017</td>\n",
       "      <td>1,284.80</td>\n",
       "      <td>1,290.10</td>\n",
       "      <td>1,293.20</td>\n",
       "      <td>1,278.20</td>\n",
       "      <td>287.45K</td>\n",
       "      <td>-0.30</td>\n",
       "    </tr>\n",
       "    <tr>\n",
       "      <th>19</th>\n",
       "      <td>Sep 28, 2017</td>\n",
       "      <td>1,288.70</td>\n",
       "      <td>1,285.10</td>\n",
       "      <td>1,291.60</td>\n",
       "      <td>1,280.40</td>\n",
       "      <td>288.51K</td>\n",
       "      <td>0.07</td>\n",
       "    </tr>\n",
       "    <tr>\n",
       "      <th>20</th>\n",
       "      <td>Sep 27, 2017</td>\n",
       "      <td>1,287.80</td>\n",
       "      <td>1,297.30</td>\n",
       "      <td>1,299.20</td>\n",
       "      <td>1,284.10</td>\n",
       "      <td>374.77K</td>\n",
       "      <td>-1.07</td>\n",
       "    </tr>\n",
       "    <tr>\n",
       "      <th>21</th>\n",
       "      <td>Sep 26, 2017</td>\n",
       "      <td>1,301.70</td>\n",
       "      <td>1,314.20</td>\n",
       "      <td>1,317.10</td>\n",
       "      <td>1,295.00</td>\n",
       "      <td>385.65K</td>\n",
       "      <td>-0.75</td>\n",
       "    </tr>\n",
       "    <tr>\n",
       "      <th>22</th>\n",
       "      <td>Sep 25, 2017</td>\n",
       "      <td>1,311.50</td>\n",
       "      <td>1,301.50</td>\n",
       "      <td>1,315.80</td>\n",
       "      <td>1,291.70</td>\n",
       "      <td>362.67K</td>\n",
       "      <td>1.08</td>\n",
       "    </tr>\n",
       "    <tr>\n",
       "      <th>23</th>\n",
       "      <td>NaN</td>\n",
       "      <td>NaN</td>\n",
       "      <td>NaN</td>\n",
       "      <td>NaN</td>\n",
       "      <td>NaN</td>\n",
       "      <td>NaN</td>\n",
       "      <td>NaN</td>\n",
       "    </tr>\n",
       "    <tr>\n",
       "      <th>24</th>\n",
       "      <td>NaN</td>\n",
       "      <td>Highest:1,317.10</td>\n",
       "      <td>Lowest:1,262.80</td>\n",
       "      <td>Difference:54.30</td>\n",
       "      <td>Average:1,286.93</td>\n",
       "      <td>Change %:-1.43</td>\n",
       "      <td>NaN</td>\n",
       "    </tr>\n",
       "  </tbody>\n",
       "</table>\n",
       "</div>"
      ],
      "text/plain": [
       "            Date             Price             Open              High  \\\n",
       "0   Oct 25, 2017          1,279.00         1,278.00          1,281.30   \n",
       "1   Oct 24, 2017          1,278.30         1,283.90          1,285.30   \n",
       "2   Oct 23, 2017          1,280.90         1,281.50          1,284.70   \n",
       "3   Oct 20, 2017          1,280.50         1,292.00          1,292.90   \n",
       "4   Oct 19, 2017          1,290.00         1,282.80          1,292.80   \n",
       "5   Oct 18, 2017          1,283.00         1,286.90          1,290.80   \n",
       "6   Oct 17, 2017          1,286.20         1,297.20          1,298.40   \n",
       "7   Oct 16, 2017          1,303.00         1,306.00          1,308.40   \n",
       "8   Oct 13, 2017          1,304.60         1,296.00          1,306.40   \n",
       "9   Oct 12, 2017          1,296.50         1,294.60          1,299.80   \n",
       "10  Oct 11, 2017          1,288.90         1,290.70          1,295.90   \n",
       "11  Oct 10, 2017          1,293.80         1,286.80          1,296.70   \n",
       "12  Oct 09, 2017          1,285.00         1,278.60          1,288.00   \n",
       "13  Oct 06, 2017          1,274.90         1,270.60          1,279.20   \n",
       "14  Oct 05, 2017          1,273.20         1,277.50          1,281.60   \n",
       "15  Oct 04, 2017          1,276.80         1,274.50          1,285.00   \n",
       "16  Oct 03, 2017          1,274.60         1,273.10          1,277.40   \n",
       "17  Oct 02, 2017          1,275.80         1,282.20          1,282.80   \n",
       "18  Sep 29, 2017          1,284.80         1,290.10          1,293.20   \n",
       "19  Sep 28, 2017          1,288.70         1,285.10          1,291.60   \n",
       "20  Sep 27, 2017          1,287.80         1,297.30          1,299.20   \n",
       "21  Sep 26, 2017          1,301.70         1,314.20          1,317.10   \n",
       "22  Sep 25, 2017          1,311.50         1,301.50          1,315.80   \n",
       "23           NaN               NaN              NaN               NaN   \n",
       "24           NaN  Highest:1,317.10  Lowest:1,262.80  Difference:54.30   \n",
       "\n",
       "                 Low            Vol.  Change %  \n",
       "0           1,272.00         379.40K      0.05  \n",
       "1           1,274.80         268.91K     -0.20  \n",
       "2           1,273.60         284.48K      0.03  \n",
       "3           1,279.30         314.81K     -0.74  \n",
       "4           1,277.60         355.71K      0.55  \n",
       "5           1,278.60         258.54K     -0.25  \n",
       "6           1,283.20         342.41K     -1.29  \n",
       "7           1,292.50         271.28K     -0.12  \n",
       "8           1,292.90         297.57K      0.62  \n",
       "9           1,291.80         246.08K      0.59  \n",
       "10          1,286.80         261.36K     -0.38  \n",
       "11          1,284.60         316.58K      0.68  \n",
       "12          1,277.70         200.99K      0.79  \n",
       "13          1,262.80         373.75K      0.13  \n",
       "14          1,268.50         221.52K     -0.28  \n",
       "15          1,273.10         273.12K      0.17  \n",
       "16          1,271.00         207.42K     -0.09  \n",
       "17          1,272.00         272.71K     -0.70  \n",
       "18          1,278.20         287.45K     -0.30  \n",
       "19          1,280.40         288.51K      0.07  \n",
       "20          1,284.10         374.77K     -1.07  \n",
       "21          1,295.00         385.65K     -0.75  \n",
       "22          1,291.70         362.67K      1.08  \n",
       "23               NaN             NaN       NaN  \n",
       "24  Average:1,286.93  Change %:-1.43       NaN  "
      ]
     },
     "execution_count": 9,
     "metadata": {},
     "output_type": "execute_result"
    }
   ],
   "source": [
    "\n",
    "gf = pd.read_csv(current_test_data)\n",
    "gf"
   ]
  },
  {
   "cell_type": "code",
   "execution_count": 4,
   "id": "6722b924",
   "metadata": {},
   "outputs": [],
   "source": [
    "GAS_TRAIN_DATA = 'CSV_Files/Gas Data Last Year.csv'\n",
    "GAS_TRAIN_DATA\n",
    "import pandas as pd"
   ]
  },
  {
   "cell_type": "code",
   "execution_count": 5,
   "id": "9107c4d2",
   "metadata": {},
   "outputs": [],
   "source": [
    "data = pd.read_csv('CSV_Files/Gas Data Last Year.csv')"
   ]
  },
  {
   "cell_type": "code",
   "execution_count": 6,
   "id": "dd9b2dc7",
   "metadata": {},
   "outputs": [
    {
     "data": {
      "text/html": [
       "<div>\n",
       "<style scoped>\n",
       "    .dataframe tbody tr th:only-of-type {\n",
       "        vertical-align: middle;\n",
       "    }\n",
       "\n",
       "    .dataframe tbody tr th {\n",
       "        vertical-align: top;\n",
       "    }\n",
       "\n",
       "    .dataframe thead th {\n",
       "        text-align: right;\n",
       "    }\n",
       "</style>\n",
       "<table border=\"1\" class=\"dataframe\">\n",
       "  <thead>\n",
       "    <tr style=\"text-align: right;\">\n",
       "      <th></th>\n",
       "      <th>Date</th>\n",
       "      <th>Price</th>\n",
       "      <th>Open</th>\n",
       "      <th>High</th>\n",
       "      <th>Low</th>\n",
       "      <th>Vol.</th>\n",
       "      <th>Change %</th>\n",
       "    </tr>\n",
       "  </thead>\n",
       "  <tbody>\n",
       "    <tr>\n",
       "      <th>0</th>\n",
       "      <td>Sep 27, 2017</td>\n",
       "      <td>2.974</td>\n",
       "      <td>2.917</td>\n",
       "      <td>2.989</td>\n",
       "      <td>2.912</td>\n",
       "      <td>15.71K</td>\n",
       "      <td>1.92</td>\n",
       "    </tr>\n",
       "    <tr>\n",
       "      <th>1</th>\n",
       "      <td>Sep 26, 2017</td>\n",
       "      <td>2.918</td>\n",
       "      <td>2.921</td>\n",
       "      <td>2.955</td>\n",
       "      <td>2.898</td>\n",
       "      <td>54.99K</td>\n",
       "      <td>-0.03</td>\n",
       "    </tr>\n",
       "    <tr>\n",
       "      <th>2</th>\n",
       "      <td>Sep 25, 2017</td>\n",
       "      <td>2.919</td>\n",
       "      <td>2.932</td>\n",
       "      <td>2.986</td>\n",
       "      <td>2.911</td>\n",
       "      <td>73.23K</td>\n",
       "      <td>-1.35</td>\n",
       "    </tr>\n",
       "    <tr>\n",
       "      <th>3</th>\n",
       "      <td>Sep 22, 2017</td>\n",
       "      <td>2.959</td>\n",
       "      <td>2.957</td>\n",
       "      <td>2.978</td>\n",
       "      <td>2.945</td>\n",
       "      <td>109.53K</td>\n",
       "      <td>0.44</td>\n",
       "    </tr>\n",
       "    <tr>\n",
       "      <th>4</th>\n",
       "      <td>Sep 21, 2017</td>\n",
       "      <td>2.946</td>\n",
       "      <td>3.081</td>\n",
       "      <td>3.091</td>\n",
       "      <td>2.942</td>\n",
       "      <td>271.68K</td>\n",
       "      <td>-4.78</td>\n",
       "    </tr>\n",
       "    <tr>\n",
       "      <th>...</th>\n",
       "      <td>...</td>\n",
       "      <td>...</td>\n",
       "      <td>...</td>\n",
       "      <td>...</td>\n",
       "      <td>...</td>\n",
       "      <td>...</td>\n",
       "      <td>...</td>\n",
       "    </tr>\n",
       "    <tr>\n",
       "      <th>262</th>\n",
       "      <td>Sep 29, 2016</td>\n",
       "      <td>2.959</td>\n",
       "      <td>3.010</td>\n",
       "      <td>3.032</td>\n",
       "      <td>2.956</td>\n",
       "      <td>131.81K</td>\n",
       "      <td>0.24</td>\n",
       "    </tr>\n",
       "    <tr>\n",
       "      <th>263</th>\n",
       "      <td>Sep 28, 2016</td>\n",
       "      <td>2.952</td>\n",
       "      <td>2.994</td>\n",
       "      <td>2.994</td>\n",
       "      <td>2.905</td>\n",
       "      <td>8.88K</td>\n",
       "      <td>-1.47</td>\n",
       "    </tr>\n",
       "    <tr>\n",
       "      <th>264</th>\n",
       "      <td>Sep 27, 2016</td>\n",
       "      <td>2.996</td>\n",
       "      <td>3.011</td>\n",
       "      <td>3.023</td>\n",
       "      <td>2.977</td>\n",
       "      <td>45.16K</td>\n",
       "      <td>-0.03</td>\n",
       "    </tr>\n",
       "    <tr>\n",
       "      <th>265</th>\n",
       "      <td>NaN</td>\n",
       "      <td>NaN</td>\n",
       "      <td>NaN</td>\n",
       "      <td>NaN</td>\n",
       "      <td>NaN</td>\n",
       "      <td>NaN</td>\n",
       "      <td>NaN</td>\n",
       "    </tr>\n",
       "    <tr>\n",
       "      <th>266</th>\n",
       "      <td>NaN</td>\n",
       "      <td>Highest:3.994</td>\n",
       "      <td>Lowest:2.522</td>\n",
       "      <td>Difference:1.472</td>\n",
       "      <td>Average:3.087</td>\n",
       "      <td>Change %:-0.767</td>\n",
       "      <td>NaN</td>\n",
       "    </tr>\n",
       "  </tbody>\n",
       "</table>\n",
       "<p>267 rows × 7 columns</p>\n",
       "</div>"
      ],
      "text/plain": [
       "             Date          Price          Open              High  \\\n",
       "0    Sep 27, 2017          2.974         2.917             2.989   \n",
       "1    Sep 26, 2017          2.918         2.921             2.955   \n",
       "2    Sep 25, 2017          2.919         2.932             2.986   \n",
       "3    Sep 22, 2017          2.959         2.957             2.978   \n",
       "4    Sep 21, 2017          2.946         3.081             3.091   \n",
       "..            ...            ...           ...               ...   \n",
       "262  Sep 29, 2016          2.959         3.010             3.032   \n",
       "263  Sep 28, 2016          2.952         2.994             2.994   \n",
       "264  Sep 27, 2016          2.996         3.011             3.023   \n",
       "265           NaN            NaN           NaN               NaN   \n",
       "266           NaN  Highest:3.994  Lowest:2.522  Difference:1.472   \n",
       "\n",
       "               Low             Vol.  Change %  \n",
       "0            2.912           15.71K      1.92  \n",
       "1            2.898           54.99K     -0.03  \n",
       "2            2.911           73.23K     -1.35  \n",
       "3            2.945          109.53K      0.44  \n",
       "4            2.942          271.68K     -4.78  \n",
       "..             ...              ...       ...  \n",
       "262          2.956          131.81K      0.24  \n",
       "263          2.905            8.88K     -1.47  \n",
       "264          2.977           45.16K     -0.03  \n",
       "265            NaN              NaN       NaN  \n",
       "266  Average:3.087  Change %:-0.767       NaN  \n",
       "\n",
       "[267 rows x 7 columns]"
      ]
     },
     "execution_count": 6,
     "metadata": {},
     "output_type": "execute_result"
    }
   ],
   "source": [
    "data"
   ]
  },
  {
   "cell_type": "code",
   "execution_count": null,
   "id": "fd61c67a",
   "metadata": {},
   "outputs": [],
   "source": []
  }
 ],
 "metadata": {
  "kernelspec": {
   "display_name": "Python 3.10 (tensorflow)",
   "language": "python",
   "name": "tensorflow"
  },
  "language_info": {
   "codemirror_mode": {
    "name": "ipython",
    "version": 3
   },
   "file_extension": ".py",
   "mimetype": "text/x-python",
   "name": "python",
   "nbconvert_exporter": "python",
   "pygments_lexer": "ipython3",
   "version": "3.10.10"
  }
 },
 "nbformat": 4,
 "nbformat_minor": 5
}
